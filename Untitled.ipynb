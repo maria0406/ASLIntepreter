{
 "cells": [
  {
   "cell_type": "code",
   "execution_count": 1,
   "id": "11e7a3e9",
   "metadata": {},
   "outputs": [],
   "source": [
    "import cv2 #opencv\n",
    "import os\n",
    "import time\n",
    "import uuid"
   ]
  },
  {
   "cell_type": "code",
   "execution_count": 2,
   "id": "c86d69f3",
   "metadata": {},
   "outputs": [],
   "source": [
    "IMAGES_PATH = 'RealTimeObjectDetection/Tensorflow/workspace/images/collectedimages'"
   ]
  },
  {
   "cell_type": "code",
   "execution_count": 3,
   "id": "d4e04663",
   "metadata": {},
   "outputs": [],
   "source": [
    "labels = ['q','z']\n",
    "number_imgs = 5"
   ]
  },
  {
   "cell_type": "code",
   "execution_count": 4,
   "id": "d2fa421e",
   "metadata": {},
   "outputs": [
    {
     "name": "stdout",
     "output_type": "stream",
     "text": [
      "Collecting for q\n",
      "Collecting for z\n"
     ]
    }
   ],
   "source": [
    "for label in labels:\n",
    "    !mkdir {'RealTimeObjectDetection/Tensorflow/workspace/images/collectedimages//'+label}\n",
    "    cap = cv2.VideoCapture(0)\n",
    "    print('Collecting for {}'.format(label))\n",
    "    time.sleep(2)\n",
    "    for imgnum in range(number_imgs):\n",
    "        ret, frame = cap.read()\n",
    "        imagename = os.path.join(IMAGES_PATH, label, label+'.'+'{}.png'.format(str(uuid.uuid1())))\n",
    "        cv2.imwrite(imagename, frame)\n",
    "        cv2.imshow('frame', frame)\n",
    "        time.sleep(2)\n",
    "        \n",
    "        if cv2.waitKey(1) & 0xFF == ord ('q'):\n",
    "            cv2.destroyAllWindows()  # Close all windows\n",
    "            break\n",
    "    cap.release()\n",
    "    "
   ]
  },
  {
   "cell_type": "code",
   "execution_count": null,
   "id": "0429a1dd",
   "metadata": {},
   "outputs": [],
   "source": []
  }
 ],
 "metadata": {
  "kernelspec": {
   "display_name": "Python 3 (ipykernel)",
   "language": "python",
   "name": "python3"
  },
  "language_info": {
   "codemirror_mode": {
    "name": "ipython",
    "version": 3
   },
   "file_extension": ".py",
   "mimetype": "text/x-python",
   "name": "python",
   "nbconvert_exporter": "python",
   "pygments_lexer": "ipython3",
   "version": "3.10.9"
  }
 },
 "nbformat": 4,
 "nbformat_minor": 5
}
